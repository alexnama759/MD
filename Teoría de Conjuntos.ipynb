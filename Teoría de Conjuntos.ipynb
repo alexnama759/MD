{
 "cells": [
  {
   "cell_type": "markdown",
   "id": "beeb6e57",
   "metadata": {},
   "source": [
    "# Teoría de conjuntos con Python \n",
    "\n",
    "La teoría de conjuntos es un área fundamental de las matematicas que trata sobre las propiedades y relaciones entre conjuntos, que son colecciones bien definidas de objetos. Python, como lenguaje de programación versatil, ofrece varias formas de trabajar con conjuntos y aplicar conceptos de teoría de conjuntos."
   ]
  },
  {
   "cell_type": "markdown",
   "id": "873c2534",
   "metadata": {},
   "source": [
    "## Creación de conjuntos\n",
    "\n",
    "En python, puedes crear un conjunto utilizando llaves {} o set"
   ]
  },
  {
   "cell_type": "code",
   "execution_count": 1,
   "id": "94801e3f",
   "metadata": {},
   "outputs": [],
   "source": [
    "A = {1,2,3}"
   ]
  },
  {
   "cell_type": "code",
   "execution_count": 2,
   "id": "8bd985e2",
   "metadata": {},
   "outputs": [],
   "source": [
    "B = {3,4,5,6}"
   ]
  },
  {
   "cell_type": "code",
   "execution_count": 21,
   "id": "094845a9",
   "metadata": {},
   "outputs": [],
   "source": [
    "C = {7,8,9}"
   ]
  },
  {
   "cell_type": "code",
   "execution_count": 4,
   "id": "bbb1aae0",
   "metadata": {},
   "outputs": [],
   "source": [
    "lista = [1,2,3,4,5,1,2,3,4,5]"
   ]
  },
  {
   "cell_type": "code",
   "execution_count": 5,
   "id": "b8a1ebd8",
   "metadata": {},
   "outputs": [
    {
     "data": {
      "text/plain": [
       "[1, 2, 3, 4, 5, 1, 2, 3, 4, 5]"
      ]
     },
     "execution_count": 5,
     "metadata": {},
     "output_type": "execute_result"
    }
   ],
   "source": [
    "lista"
   ]
  },
  {
   "cell_type": "code",
   "execution_count": 6,
   "id": "ee5f67a6",
   "metadata": {},
   "outputs": [],
   "source": [
    "conjunto = set(lista)"
   ]
  },
  {
   "cell_type": "code",
   "execution_count": 7,
   "id": "af1f3caa",
   "metadata": {},
   "outputs": [
    {
     "data": {
      "text/plain": [
       "{1, 2, 3, 4, 5}"
      ]
     },
     "execution_count": 7,
     "metadata": {},
     "output_type": "execute_result"
    }
   ],
   "source": [
    "conjunto"
   ]
  },
  {
   "cell_type": "markdown",
   "id": "9927e25f",
   "metadata": {},
   "source": [
    "## Operaciones \n",
    "\n",
    "Python proporciona operadores y métodos para realizar operaciones básicas de conjuntos como unión, intersección, diferencia y diferencia simétrica."
   ]
  },
  {
   "cell_type": "markdown",
   "id": "66be3f00",
   "metadata": {},
   "source": [
    "## Union\n",
    "\n",
    "Formalmente, si A y B son conjuntos, la unión de A y B se define como el conjunto C que contiene todos los elementos que pertenecen a A, a B, o a ambos Matemáticamente, esto se puede expresar como:\n",
    "\n",
    "$$\n",
    "    C = A \\cup B = {x:x \\in A \\quad o \\quad x \\in B}\n",
    "$$\n",
    "\n",
    "En Python, la operación de unión puede realizarse utilizando el operador | o el método union() "
   ]
  },
  {
   "cell_type": "markdown",
   "id": "4ff3a761",
   "metadata": {},
   "source": [
    "<img src=\"https://th.bing.com/th/id/OIP.p8bYS6y3faJdTSIqsT11zwHaFN?w=236&h=180&c=7&r=0&o=5&dpr=1.3&pid=1.7\" alt=\"Descripción de la imagen\">"
   ]
  },
  {
   "cell_type": "code",
   "execution_count": 8,
   "id": "6fcf4198",
   "metadata": {},
   "outputs": [
    {
     "data": {
      "text/plain": [
       "{1, 2, 3, 4, 5, 6}"
      ]
     },
     "execution_count": 8,
     "metadata": {},
     "output_type": "execute_result"
    }
   ],
   "source": [
    "A | B"
   ]
  },
  {
   "cell_type": "code",
   "execution_count": 9,
   "id": "fe7154d8",
   "metadata": {},
   "outputs": [
    {
     "data": {
      "text/plain": [
       "{1, 2, 3, 4, 5, 6}"
      ]
     },
     "execution_count": 9,
     "metadata": {},
     "output_type": "execute_result"
    }
   ],
   "source": [
    "A.union(B)"
   ]
  },
  {
   "cell_type": "markdown",
   "id": "eab7fe3e",
   "metadata": {},
   "source": [
    "## Intersección\n",
    "\n",
    "La intersección de los conjuntos A y B se puede definir como un nuevo conjunto que contiene elementos comunes de A y B.\n",
    "Matematicamente se puede extresar como:\n",
    "\n",
    "$$\n",
    "    \\{x | x ∈ A \\text{ y } x ∈ B\\}\n",
    "$$\n",
    "\n",
    "En python se puede realizar con el operador & y el metodo intersection()."
   ]
  },
  {
   "cell_type": "markdown",
   "id": "9af5f89e",
   "metadata": {},
   "source": []
  },
  {
   "cell_type": "markdown",
   "id": "9fd13ee5",
   "metadata": {},
   "source": [
    "<img src=\"data:image/jpeg;base64,/9j/4AAQSkZJRgABAQAAAQABAAD/2wBDAAsJCQcJCQcJCQkJCwkJCQkJCQsJCwsMCwsLDA0QDBEODQ4MEhkSJRodJR0ZHxwpKRYlNzU2GioyPi0pMBk7IRP/2wBDAQcICAsJCxULCxUsHRkdLCwsLCwsLCwsLCwsLCwsLCwsLCwsLCwsLCwsLCwsLCwsLCwsLCwsLCwsLCwsLCwsLCz/wAARCADqAU8DASIAAhEBAxEB/8QAGwABAAIDAQEAAAAAAAAAAAAAAAUGAQQHAwL/xABGEAABBAEDAgMFBAcECAYDAAABAAIDBAUGESESMRNBURQiMmFxBxWBkRYjM0JScqEkQ5KxJURiosHR8PEmJzQ1Y7JzguH/xAAbAQEAAwEBAQEAAAAAAAAAAAAABQYHBAEDAv/EACwRAQABAwIFAQgDAQAAAAAAAAABAgMEBRESITFBUXEGExRhscHR4TJCoYH/2gAMAwEAAhEDEQA/AOtonCcICJwnCAicJwgInCcICJwnCAicJwgInCcICJwnCDXvXaeOq2bt2YQ1a0ZlnlcHEMYOOzAXE+gAXzj8hQylOtfoTNmqWWF8MjQ4dQBLTu1wBBBBBBHkq3q+xWsWtL4CWWFkOQyLL+RM742xfd+OIsOjk8Qj43dAH0P4eWkLEFTJas09FNFLXq3jlsY6GRj4xSv/AKx0TOg9o3bg/wA3zQXMnb/staW/jYJWQT3akU7+noimniZK7ft0sc4O/os3ZzWp3rLQC6tWnnAPYmONzwP6KlaX0rp3Kadp3stSivZDMxPuXrloF9l0k73HeOQ8t2GwG23b5oL7/wBdloZXMYnCV4rWUs+BBLOyrG4QzTF8z2uc1gZAxztzsfLyUJoSxZlwQr2ZnzPxmQyGLZLId3virSlsfUfkCB+C19fySRVdISxQvnlj1fh3xQRvax8z2snIja9/ugntuUE1jNS6czE0tbH32yWYmeI+CWGxWm8Pt1tjssY4j1IBUwufvvW7WstLWc3i7GEFeG/WxhkfDYGQtWWdBhlnruLGho5YD3J+a6BwgInCcICJwnCAicJwgInCcICJwnCAicJwgInCcICJwnCAicJwgInKcoCJynKAicpygysJuvGxap04zNbswV4W/FJZlZFGPq6QgIPZFVbGvtIRPdDVs2MlYb/c4irNacfo9oEf++vIaq1JaG+N0TmZGn4Dk562O3HkSJS7/NBb0VS9v+0+Ybx4DB1d/K3kZJiPr7O3ZPE+1s8ivo0D0MmUJ/McILaiqXtf2pxcvxOm7G3lWuWoifp4wXydRa1r7m9oi2WDu/G5KpbJHq2JoDkFvQqpM1/p2NwZlK+YxDyQ0DLY+eNpd22D4g8fidlYKOVw+Tb147IU7bdtz7NNHI5o/wBprTuPxCCFdpmLIagy+VzdehdqmrTo4evNH44ghZvJK+VkzOjrc4nYjfj6rDtLxUs9gctgq2OowwR3KmWgijFdtitMA5hY2Fmxc1w3527DnhWjdEGtfgktUchWjLRJYqWYGF5IaHyRuYOogE7c88LU09j7GKwmGx1l0Tp6VSKCV0JcYy5vfpLmg7fgFKrHKCB0ziLuGqZCvafA99nL5G+w13Pc0RWHhzQS9rTuPPj818arxGUy9bCjGupC1jc5RyzW33TNgkFZsg6CYWudyXDyVhRBUThtU5fIYazqGbDxU8RcZka9bDi1I+xbYCGOmlshuwb3AA553+VuTdeNm1Tpxma3ZgrwjvJZlZFGPq6QgIPZZVUsa+0hE98NW1YyVhv9xias9px/le1oj/315DVWpLQ3xuiczI0jdhyc9bG8H1Epd/mgt6Kpe3/afNzHgMHV+VvIyTEfUwN2WPE+1s8ivo0D0MmUJ/McILciqXtf2pxcyYnTdj5VrtqIn6GZuy+f0j1pX39u0RbLB3fjsjUtkj1bGAHILeiqLNf6dY4MydfMYh5PTtlsfPE0u9OqIPH57Kw0crh8mzrx1+nabtufZp45C0dvea09Q/EIN1ERAWVjlZ5QYROU5QETlOUBE5TlAREQERR+WzOKwlR93J2o68DeG9XL5X+TImD3i75AfPsNwEgT8lX8vq3AYmUU3SS3cm8lseOxcZtXHO77OYzhv4kfQqJ/8Y6s94usacwD/hDdvvu9EfMnkRNP5/zA7ixYfAYLBQ+FjKcUJeB4sx3fYmO++8sz93n177egCCB/8yM4d96emaDuwAbfyrm/PfaFu/4Eb+ey962g9NNlbZyQuZm4O9jNWZLJ9dhHuI9vQFpVrRB416tOpG2GrXgrwt+GOvGyJjfo2MAL22CIgIiICbBEQfL2Me0se0OaeC1wDmkfMHhV2/ojR994mONjq2Wu62WMaXU5mP8A4gYNmk/VpVkRBTjitfYbZ2IzUeZqN/1LUI/tO3+xdj2JcfLq2C96etcd7QyhnalnA5F3DYslt7LKf/guN/VEfM7K1LXu0cfkK8lW9Vgs13/FFYY2Rm/qA4dx5FB7ghwBGxBAIIO4IPmCFlUp2A1HpombSlo2se0l0mBykrnx9I5Io2XnqafQE7eZJ7Lbh13pn2O5Yvzvxtqj0su46+wsuxynjoji7v38iPqdvILTv8lAZfVuBxMopl8t3KOJbHjcXGbVxzu+zmM4b68kfQqJ21lqzkusacwD/hDdhm70Z8yeRG0/n/MCrFh8Dg8FCYcZSih6gPFl5fYmPfeWZ+7z+e3yCCC2+0fOc709M0XdgA2/lXN+ZO0Ld/zG/nsvatoPTTZW2skLmZuAc2M1Zksn6eHuI9vQFpVrRB5QVqlWNsNWCGCJvDY68bImD6NYAF67IsoMIiICbBEQfLmMe1zXtDmuGzmuAc0j5g8KvX9E6QvvExxsdWy13UyzjXOpzNf/ABAwEN3+rSrGiCnHFa9wx6sRmo8zUb/qWoB/advSO7HsSfTqAH1XtS1rjvaGUM7Us4HIuOzYslt7LKeP2Fxo8Mj5nZWta12jj8jA+reqwWa7/iisMbIzfyIDhwR5FBsBzSAW7EOAII7EHncFZVKdgNRaaLptKWjbx7SXSYHKSufGG+Yo2XnqafQE7c8k9lM4PU2MzZmrsEtTJ1htdxt5vhXIHDv7ju7fmPUb7b7IJxERAREQEREFX0heyL481h8rZdZymCyMlWWeT9pYqzDxq87h/tDcD+X5q0LnzDnsLrDE381JivC1HA/DSuxbJ4oRZg2krOlFlznF7vgbse305ntR6gmxpqY3FwC3qHJgtx1X9yJm5DrVkg8Rt5+u3oCWh95/UcOJdXo04H5DPXdxj8bAffdvuPGnd2bGPMnbsfIEs1cRpeb2tmb1JYbks4QDCCP7DjQD1COlEeNx/ERvxvwSS/b09pyHDMntWpjdzd/aTJ5CUbySvOx8OLftGOA0ADsPQBs+gAFERBlFhEBF42p/Zq9mwIZ5/AhklENZgfPKWgnoiYSAXHsOQq5g83qC7ncxjcpSqU2VsfSuQQQSOnmj9oc73Z5vgLhtz0jb5nuQtKysIgLKwiAiIgysdkVX1XqgYOKCnSjbZzl8OFGsT7sbOQbNjbsxvl67egJb5MxEby9piap2p6vvU2q6eBbFWijN3M2x/YqER94g7jxpyPhjG347ccAlnObGOv5OwcrlshMc11RSV7FU9EePMTjJHHXYPJp/5778u2KdJ8L7Fq1O63k7jvEu3JeXyOP7jd+zB2A+Xy2G6qdn61XVVwY87RHfz+l307Q6KKOPJjeZ7eP2ndN6xmksQ4XUfhwZN+zaVxgDKuSHYbeTZD6eZ7bE9JvA+q5Fcp1b0D69mPrjdyPJzHeT2O8iFP6U1Nbr2YNO5+fxJ3jpw+RfwLzG8CCck/tRxt6/XYyTOm6nTlxwV8q4/wB9EHqmlVYdXHRzon/Pk6Ai+d+yyplBsosIgIiIMosIgIiICIiAoLO6Zx+bEM5fLTylU9VHJ09mW67x2BcNupvq0nzO2xO6nUQVLFahyNS9FgNVNigyUm7cdkIx00cs1uw9w7ANl7bt457bbgG2bj/go/L4fGZylLQyEIkhf7zSPdkhkA92WF/cOHl+R3B2MBh8pksPkItMaimMssgP3FlX8MyULePBmJ7Tt4B3PPzJBlC4HzXPqeqNc2MCNTux+AlxjYrFmWtDNdhu+BXkdHIWueHRbjpJ/wCtj0Hv/XsuT4PT9/JaDqynP3q9b2e5YFKVkH3d017Er+ibZglLHdO7v1nme/ZB1GnZiu06N2Hq8G3WgtRdQ2d4czBI3ceuxXuofTGSfl8BhcjJBHXfYrNLoYWlsTDG50X6tp5DTtu0b9iphBCaky2Pw2O9rs122p/GjjxlToD5LN924iZECCQd+SQOB6ng62mcDYoC1lss8WNQ5XplyE/BbAzjpqQejGcA7Hkj0aNo3BsdqnMy6psNJxWPfNR0xDICGu2PRPkC0/vOI2buPL1YCrqN0GfRERAREQEREBVTHg/p3qrjj7lw/wD9pFZrNeC3Xs1Z2l0FmGSCZrXvYXRyNLHAPjIcNwe4IVdj0HouGZk8eNlbKx0b2v8AvDJE9UZDm9W8/IHoUFnREQEREBEXy9zWNc97mtY0Fz3OIDWtaNy4k8bBBEajz1XT2NmvSt8WZxEFGs347Vp/wRtA5283H0HmeDzWnXtmW1k8lJ4+XyDvEty9xG3jprxejWjYfh6BelrIP1NmJcy/qGNomWpgYXb7FoO0lsg+byOOPID93dbKqOtahvPw1ueXf8LpoOm8NMZVyOc9PyIiKrLaLWu069+u6vNuBuHxSM4khlb8MkZ77hbKL6W7lVuqKqZ2mHzuW6blM0VxvErLo3Udm+yfD5Z4++sYwF7+Nr1TcBlpnz7B/wBQf3tm3FccusuwSVMtjT05TFuM9fYft4ufFrvHmHDf/o8dSw+Vp5vG0cnUJ8G1EH9BI6opB7r4n7ebTuD9PmtC0/MjLtRX3jqzTUsGcK9w/wBZ6JFERSKNERPT6oCKmUp9S6mNvI1c0cRifa7NTExVatWea22u8wmzNJaDu7g4BoA4HqN3W2qyxFXrRWJ/aLDIo2TT+G2LxpGt2dJ4bPdG552CD2REQEREBERAUVnMLQz1CehbBaCWyV52cS1bDfgmiPcEfXkbjsVKogq+msxdlkuaezZAz2KaBI8bhuRp8NjuxE+vAf6H032b8R6A0bGxsXslt1druoV5MhedX+Lq2MXi9JG69NV4m7NHUzmIbtnME51mp0g/2uv3mpyAckOG/T8+Bt1bqXw+Vp5rG0cnUP6i3EHhpILo3jh8T9vNpBB+iDdiihhjihhjZHDExkUUcTQxkcbB0taxreAAOAF9oiDwqVKtGtVqVYxHXrQxwQMb2bGwdIH/ADXuiICIiAiIgIiICIiAiIgIiICpGv8AKStp0tP1JOi3nXvjsPYfegx0fM7zt/F8I9R1BXbuuQPt/fWcz2b6i6DxTisWe7RTqnYvYfR7t3fiVxZ2TGNYqud+3rLu0/G+KyKbXbv6Q944ooI4YYWhsUTGxxtH7rWjYBfaf8EWb1TNU7y1GmmKY2jpAi17tplKtLYc0vLemOGMb9Us8h6Y42gep/oD6LVxFu9aive2iEWKt6ao8QN6Wfqw3fb8d196ceuq1N3tD4VZFEXYs95SSIi5nSDcef0WzpG/9z56xh3nbH53xLtAdmQ5CMfrYm+Xvjn8B6rWWhlorD6ftFY9N3HSx5Km8Dctlrnr2H1G/wCQUtpWVOPkRv0nlKH1jDjJxp2jnHOHZBssrRxOQhyuNx2Sh/Z3a0VgDffpLm+8w/MHcH6LeWgs2E8wifgg5LgMRoQaYyX38yo3KY5+UqZF9mw4WoHxSyGMQMe/ccFvSGjk79yVe9HOyL9M6efkTKbbqbS8zEmRzOp3hF5dzuW9K358Hp+1abds4nGz22lpE81WCSbdu3SS9zSdx5eikEBERAREQV/JY/Wc9yaXG6hqU6bhH4VaXFx2HMIYA7eVzwTudz28/lzqaNv53JR5yfIXortOHIyUsZZjqx1faGV92yzNZGSOlx2DfePYrY1jk7GPw8kNLnJ5aaLD4xoJDvabZ6OsEcjpHUQfUD1Uph8bBh8ZjcZBsY6VaOHqA263gbvkIHm4kuP1Qb6IiAqZQH6N6qt4n4cTqYTZPGDkMgyUY3s12+Wzh7w/ABXNVrWmPmuYWW1T4yWGmjzOOeBu4TVD4jm+vvN6htv329EFlRaeLyEGVx2OyUH7K7WhsNG+5YXt3cw/Np3B+i3EBERAREQEREGVhEQEREBERAREQQOrsk7E6czt1h2mFU162x97x7JFdhaPUF2/4fJc+x9VtKlSqjbeGFjX7ebz7zz+JJVi+0WbxBpLF78XMu65IB+9FRj6iD8veH5KG7kn5qp+0F7+FqPX7R91w9mrP870/KPvIsc7fNZRVWFwlEXDeOTrSHHWLNWnEH1vAfE0OtyD3pX9bv3Rw3j5rwwM88kuba+pPG1+UuTOke6MtjeS39S4NO/UPPyU8vKGvXr+OYWBnjzPsS7Enqlf8TjuVI/F0zZm3NPaIjr2nfyjfg64vxdirvMz08beHqiIo1JicDbcbjzHr8kRew8lN/Z1ZMVbPYNzv/aMi59YelO7vMz+vUfxV7XMNNT+x6zhYTtHmMLNFsOzp6jxKCfo0ELp60zDu++sUXJ7wyvOs+4yK7cdpERF1OMREQEREBERBrT0KFmzRt2K0MtmgZXU5ZGgvgdKA15jJ7b7D8ltLCICIiAsEAjY8g7gg9iPospwgqGiv7A7VGmydhg8vIajT3GPvb2YBz/+26t6qDx7D9oMDx7sOd0/JG4fx26EvVv+DCFb0BERAREQE5REENlM3Yo2I6dTD5PJWnwe0kU2RsrxR9RaPFsTubGHHY7N5PH55wOfp56C1JDFZr2Kdl9O7UuMDLFedndrw0kfQ/L1C2ctlcfhaM+QvSFsMWwa1o6pZpXcMhhZ5vd2A/HgDcRGkcZkKlfKZLJxiHJZ+/Jk7Ndp3FSN3EVcn1aO/Hnt5chZkREBERAREQc11lJ4ur8LAeRTwVi2Pk6xYMB/o1aa9dRu69bX9/7rBUYx9HTOf/xXkqLrtW+Vt4iGg+z9MRh7+ZkREUEsAiIgIiICIiDXa8Qah0Pa7FuXfUJ+VuLw/wDmuvLjWQ92xpeQHlmpcOeP/wAhXZfP81ftFnfEp/79Wda7Tw5kz5iPoIiKZQYiIgIiICIiAiIgIiICIiCo6p2gzn2c3/OPNWMfv8r9cx7f0VuVQ10AINHy+cWscG8Hz7yBW9A4ThEQOE4REDhOERBWc5pm/lspjMnWzktJ+OjIqwmlWtwxzOLuqdrLHu9ZGw36TttxspDE0M7TfZdk89LlGyNjELX0alQQlpPUQa43O/Hf0UsiBwnCIgcJwiIHCcIiDl2pG9Gt7m/9/gaUo+jZ3s4/JeS3NaR+Fq3AWT2uYW3Tb83VpjOf/stNUXXaZjK38xDQfZ+rfE28TIiIoJYBERAREQEREGjfHVZ0rGBuZNTYcbfISOJXZPP81yKNhsaj0NUA3Jyc90/y1IfE3/zXXQr9otO2JT89/qznXauLMq+UR9DhOERTKEOE4REDhOERA4ThEQOE4REDhOERA4ThEQVDXRDotGQjvNrLBsA+QMhKt/CqOp9rGoPs4ofx5W5kSB5ewVvEBP5q3ICIiAiIgIiICIiAiIgIiICIiCifaND4cGmcqBuMfmGwSn+GC5GY3En03AH4qE8yPQq+apxZzGn83j2tLpZ6r31wBuTYhIniA/FoH4rm+NtC7Qo2d/elhb4nylZ7jx+YKqvtBZ5UXY9Px91v9mr3OuzPr+fs3EQoqkuTLQC5v1H+arNQR3XW/H1Bdgse3XIo68WRZEQxsha3ojdz9FZfz8z+Sr9+3pWendANSSeSKVsMUUJ9qdYcCG7NDQ4HfvypPA4p3ppiee3OI32RWocMbVVTHLflM7bp9o6QGkuJaA3dx3cdhtuT6rK1cfHYjo0GWOrx2Vomy9R3d1ho4cfUea2lwXKeGuad90haq46Iq223EROPM7AcknsGjklfiOb6TOzY0vB7XrJ8uwMeGwp3Pfos3XgAf4S5dOVH+zmq51DL5uRuzs3kZZIDtz7HVJgiB/HrV4WmYlr3Nii34hlWbe9/kV3PMiIoW9qnSuNtexXstSgtDp6onybujLuQJegEN9eSO+66nImkXzHJHKyOWN7HxyMbJG+Nwcx7HDcOa5vBB8l9ICIiAiIgIiICIiAiL5c5rGlziGsaC5znHYNaBuSSUFSBN/7QX7cw4DT4Y7jfouZCXq/qzb8lb1UNDg3Yc/qJ7XB2ocvYng6hs8UKxNeux2/ps781b0BFqY6/UylKlkKj+uvbhZPE7z6XeTh6g7gj1C20BERAREQEREBFA5KlrC1asGhnKeMpRsYKzY8ey3PK/oBe6y+w4NAB7Bo7ea+NIZi5nMJWvXGRCyJbNWSSuCILHgSGPxot/J3+YP0AWFERAREQYK5Hap/cuo85ienprW3nM4z08Kc7Sxs8vdcCAPl8111U3XuJms46vmKUfVkcC91tjWjmaoRtYh7b9veH0PquPNxvibFVrz09XbgZU4t+m72jr6K2i8oJ4bUEFmE9UUzGyRn5HyPzHY/ReqzaqmaZ2nq1KmqKoiYF89LOou6Wh5/eDW9X+LbdfSJFUx0ezTE9RERePRR+VNl9eKhUG97L2I8ZUHP98emR528gO58t9/JSAG5AC3dGUfvfM29QSN3o4oSY3D7jiWdw2sWW7/4Qfn/sqX0jFnIyImelPOfshdZzPh8aYjrVyj7r9jqNfG0KGPr/ALGlWhrRk93CNob1H5nufqttAiv7OBcsfl36adrrGMoR5aO1dtXZshAyWarUdfcWOhzLmRnYx8khpduONgT7vU1RsXU1npytaxNXC0MpXdbuzwX3ZFlbrbZeXg24JI3PLhv72zuwA8tyFh0zTgoYDB1ILcdyKGnGGWYndUc3Vu8ujP8ADuSG/JTChdL4eXA4PH4yaWOWaHxpZnRAiISTyumcyIHnpG+w4HbfYb7CaQEREBaWVydLD4+7krr3MrVI+uQsHU9xJDGsYDx1OJAHPc+XcbqhNU4ebO4S9joJo4rLzBNWfKCYvGglbM0SbAnpO2x4O2+/O2xDRh1TejtYqLM4C5iq2VnZVoWprNadrrEgLo4rEcR6mOd5A78/Q9NpXONU2dXWqGFgyGKxtDrz+GhjkjyDrUtm26Xdvs0bYmho4cT1PPHr3HR//wCoCIiAqvra7YixLMXSP+ktQ2I8NTA33a2fiaU7c7NbvufLcK0Kl4U/pJqTIaiPvYvDCXD4En4ZZj/6q4z6/A0juD6tQWvH0q+Oo0KFcbQU68NaLfuWxtDNz8z3P1WyiIKRjnfojnn4OX3MDnp5LWCefgqXnkeLRJJ4Du8f125JO13B+SjM5hqWdxtnHWgWtl6Xwys/aV52cxzRn1afnyNx2KidNZq66Wxp3OuDc/jWj3+zMnT7MuQE99x8Y9fTkMC08JwiIHCcIiBwnCIgrmZxenc/JagtZWzG+pC6vbgpZN0AiY9vib2IGu6N9jvu5vb6LU0FdsWsVervfHPUxeTt4zGW4Yo4Y7dKDp8ORrImhnntuBz9QSZi/pvTOUn9pv4mjYsbNBllhb4jg3gBzm7E7eW6kYK9arDFXrQxQQQtDIooGNjjjb6Na0AAfgg9eE4REDhOERA4WDtt/wBcrKIOR5PGnTGakpAdOFy8slnEv56K1gneSmT2A82fLbud9vb/ACXQc7hqWex1nG2wQyTZ8MrB+srzs5ZNGfVv15BI81zGu+/UtWcNlgGZSl3d+5dr/uWYSe4I7/8AMENqetafznJtx6/lcdC1KJiMW5Pp+Pw3URFVFwERat67HRha8sdLPM9sFKtGCZbVh5DWxsaOe5G/H9Svpbt1Xa4oojeZfO7dptUTXXO0Q+LTbt+xUwONP+kMmCJJdiRSo9pbEm3bjcDnn6kb9XxuOp4mhSx1NnRWqQthjHmduS5xHm47k/MqA0hpyXDQWL2RLZc5lOiW/INiIWfu1YiOOlvnt3PqGja1rRMDDpxLUUR17+rMtQzas29Nyenb0E4RF3o8ThEQE4REDhOERA4WterTW6k9eC5PTmkDPDs1hGZYnNe1+4EoLSDtsQR2JWyiCvVNNze31MlmMxcy9qiH+wNnirVq1ZzwWmVsFZoaX7cAnf8AoNrDwiIHCcIobUOerYCl7RI101ud4rY2lFzNdtv2DI2AbnbcjqO3HzJAcEXq3I25zU0tiH7ZbNtc2eVoJGPxnImsv27bjdrOR57HfbexY3H08VRp46mzorVIWQxN89h3c4j95x3JPqVD6YwdrHtu5PLPbPn8u9s2RlHLYWgDoqw+jGDj57ejRtY0DhOERA5UDqLT8eairzQTOp5fHuM+KyEXxwS/wv27xu7OH/YzyIK1p/UUl6afD5eFtHUVID2mseI7TB/rNRx7sPfby+nKsu+6hc9p2hnYoHPfLVyFR3iY7I1T02qko5Ba4bEtP7zd+fkeRE4/Ut7F2osPq9kda3Ieijlox043JAcDd3wsk9Qdh9NwHBcEREBERAREQEREBERAREQFXdT6aragrRFkns2Upl0uNutHvRP7lj9uSx3mPx+RsSbLyY3jaXsTMTvDjlazabYnxuTgNTL1f28DvhlZ5TVyOCw9+P8Atu/5K8ai0zjdQwRNmc+verEvo3oABYrP78erT5t3/I8jl93I5DC3ZMLkoK9jMNfDFVfXsQsq2vGd0sfO57h0eRIO34A7qo5+i1RVx40bxPbx+lz07XaJo4Mqdpjv5/bfu3a9CFskwe98jhHWgiHVNZlJ2EcTRuefM7f8jaNJ6WtRTtz+eaw5d7C2nVHMWLgcD7jf/kO/vHy3I8yvfTWj24+ZuYzMrL2de3ZjxzWoMI/Z1GHjf1dt9NtyX3DYBTGnabThxxVc6p/z0Qmp6pXm1cNPKiO3n1AiIpdDCIiAiIgIiICIiAiIgIirmc1RXx0zcXjq78pn52/2fHVSD4e+x8S3Jv0sYO53P5A9TQ3c7nsbgajbNsvfLK/waVSEdVm5OdgIoWDk9xufLf58xOCweRsXf0m1GGOy8rCyhTB6oMPWd/dx+XiEH33fMjzXphNNzx3DndQWW5DPyM6I3NB9kxsR/uKUZ4HmC7bc7n+Il9oQEREBERAREQFq3qGPyVaWnfrRWasw2kilb1NPo4eYI8iCCFtIgpQxurdK7uwb35rBtJP3Tdl6b1Rm++1KwfiaPJp9NgCTupjDaqwObc6vBM+vkIyWz46+z2e9E8DcgxP77efSSp1RGY03gM61v3jTY+aPbwbMZMVqIg7gsmj2dx325HyQS6Km/dmv8Ht91ZWDOUW9qed3jutYP3Y7kfxH+YAfJfTdc06bxFqLE5bCSbgGSzA6zSLjxsyzWB3/AMKC4ItCjmcFkwDj8lRtbgHpr2InvG/8TAeofiFv/mgInCICIiAi17V3H0meJdt1qse2/XamjhbsPnIQFW7GvdNiR1fFi/mrYO3gYapJY2PkTK4CPb5hxQWxR+VzWGwkBsZS9DVjIPQJHbySEdxFG3d7j9AVXi77Sc0Q1kdHTVJ3d8jm5DKFvPLWjaEb/PYj1W9jNHYLHT+3TCfJZQkF+Qy8ntVjcdvD6x0N28tm7/NBGm9rHVI6MVDNgMK/4sldZ/pSzGd9/ZK+/uA+TifMEHjZStPSOmKmOsY72COxFb969Ld/XWbcnJ8SaYgO6tySNttieNlYAiCkjHat0r72EfJmsI0/+1XZNr9Rm/alYPBaPJp9OASd1NYbVOCzZdDXndBfjPTPj7zfZ70LhyQ6J/fbz2JU4ofMabwGdaz7xpxvmj28K1ETFbiIO4LJo9nceh3HyQTCKm/dmv8AB7fdOUhzdFnw087+rusYB8Md2PYE/wAwA+S+265p03CPUWJy2Ek+EyWa77NIn0js1gQf8KC3otCjmcFkgDj8lRtEgHpr2InvG/k5gPUD9Qt/80BERAROPVPzQEWvZu4+kzxLtutWjA3L7U0ULdvXeQgKt2Ne6bEj6+LF/M2wenwMNVln5PYmUgR7fMOKC2KPyuaw2Eg9pyl6CrEQegSO3kkI8oo27vcfoCq8XfaVmtgyOjpqk7u+Rzchky0+bWjaEbj12IW9jNHYHHWPbpmz5LKHYvyGXkNqx1A7gx9fuN27DZu+3mgjDe1lqrdmKgmwGFf8WRusH3pZj5B9lr7+4D5OJ9CDxsrBhdP4fAwvhoQHxJT1WrU58S3ak33L55jyfM7cDntypZEBERAREQEREDhOERA4ThEQOE4REDhYLWuBa4BzTwQ4Agj5g8LKIK/f0bozIkusYamJCeoyVWuqyF3qX1i0k/VaA0NDX2+7NRanoNHwww5F0lcen6uVp/zVvRBUv0f1zH/6bXNgNHlbxFGwfxcSCn3R9o44/TGmR6nCVwfyD9lbUQVI4L7QHn9brktYe7a+DosP4PLiVg6Nu2DvkNXannB36469plSJ49CyJvZW5EFXq6C0VVk8Z2MbbnPxS5KWa2XfzNmcY/8AdVjhr1qzGxVoYoYm8NjgjbGwfRrAAvVEBERA4ThEQOE4REDhYc1rmlrgC0jYhwBBHzB4WUQV+/ozRmRJdYw1NshJcZKrXVZC7+IurFpJ+u60BoeGvt926i1PQa34Yoci6SAen6uVp/zVvRBUv0f1zHsK2ubAb/DbxFGwfxcSCn3R9o44/TGmfmcJWB/IP2VtRBUjgvtAkO0muS1nm2vg6LD+Dy8lYOjbtg75DV2p5wfijr2mVInj0cyJqtyIKvV0Fomq/wAZ2LbanPLpMjLNbLv5mzOLP91WOCvVrRtirQxQxN+GOCNsbAPk1gAXqiBwnCIgcJwiIHCcIiBwnCIgcJwiIP/Z\" alt=\"Descripción de la imagen\">"
   ]
  },
  {
   "cell_type": "code",
   "execution_count": 10,
   "id": "f62f795b",
   "metadata": {},
   "outputs": [
    {
     "data": {
      "text/plain": [
       "{3}"
      ]
     },
     "execution_count": 10,
     "metadata": {},
     "output_type": "execute_result"
    }
   ],
   "source": [
    "A.intersection(B)"
   ]
  },
  {
   "cell_type": "code",
   "execution_count": 11,
   "id": "e38138b5",
   "metadata": {},
   "outputs": [
    {
     "data": {
      "text/plain": [
       "{3}"
      ]
     },
     "execution_count": 11,
     "metadata": {},
     "output_type": "execute_result"
    }
   ],
   "source": [
    "A & B"
   ]
  },
  {
   "cell_type": "markdown",
   "id": "d93cfef2",
   "metadata": {},
   "source": [
    "## Diferencia \n",
    "\n",
    "la diferencia de dos conjuntos ( A ) y ( B ), denotada como ( A - B ), es el conjunto formado por todos los elementos que pertenecen a ( A ) pero no pertenecen a ( B ). Formalmente, se define como:\n",
    "\n",
    "$$\n",
    "    \\{x | x ∈ A \\text{ y } x ∉ B\\}\n",
    "$$\n",
    "\n",
    "En Python, se puede usar el operador - o el método difference()."
   ]
  },
  {
   "cell_type": "markdown",
   "id": "9d54afd6",
   "metadata": {},
   "source": [
    "<img src=\"https://th.bing.com/th/id/OIP._n7aMhAU2Pd_cek2sSAYvwHaEK?w=307&h=180&c=7&r=0&o=5&dpr=1.3&pid=1.7\" alt=\"Descripción de la imagen\">"
   ]
  },
  {
   "cell_type": "code",
   "execution_count": 12,
   "id": "c68ae85e",
   "metadata": {},
   "outputs": [
    {
     "data": {
      "text/plain": [
       "{1, 2}"
      ]
     },
     "execution_count": 12,
     "metadata": {},
     "output_type": "execute_result"
    }
   ],
   "source": [
    "A - B "
   ]
  },
  {
   "cell_type": "code",
   "execution_count": 13,
   "id": "a187d6d5",
   "metadata": {},
   "outputs": [
    {
     "data": {
      "text/plain": [
       "{4, 5, 6}"
      ]
     },
     "execution_count": 13,
     "metadata": {},
     "output_type": "execute_result"
    }
   ],
   "source": [
    "B - A"
   ]
  },
  {
   "cell_type": "markdown",
   "id": "611e8926",
   "metadata": {},
   "source": [
    "## Diferencia Simetrica \n",
    "\n",
    "entre dos conjuntos A y B, denotada como ( A \\Delta B ), es el conjunto de elementos que pertenecen a A o a B, pero no a ambos conjuntos al mismo tiempo. Matemáticamente, se expresa de la siguiente manera:\n",
    "\n",
    "$$\n",
    "     \\{x | (x ∈ A \\text{ o } x ∈ B) \\text{ y } x ∉ (A ∩ B)\\}\n",
    "$$     \n",
    "\n",
    "En Python, puedes calcular la diferencia simétrica entre dos conjuntos utilizando el método symmetric_difference() o el operador ^."
   ]
  },
  {
   "cell_type": "markdown",
   "id": "0b72ec2e",
   "metadata": {},
   "source": [
    "<img src=\"data:image/jpeg;base64,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\" alt=\"Descripción de la imagen\">"
   ]
  },
  {
   "cell_type": "code",
   "execution_count": 14,
   "id": "62be7cab",
   "metadata": {},
   "outputs": [
    {
     "data": {
      "text/plain": [
       "{1, 2, 4, 5, 6}"
      ]
     },
     "execution_count": 14,
     "metadata": {},
     "output_type": "execute_result"
    }
   ],
   "source": [
    "A ^ B "
   ]
  },
  {
   "cell_type": "code",
   "execution_count": 15,
   "id": "c1af4cdf",
   "metadata": {},
   "outputs": [
    {
     "data": {
      "text/plain": [
       "{1, 2, 4, 5, 6}"
      ]
     },
     "execution_count": 15,
     "metadata": {},
     "output_type": "execute_result"
    }
   ],
   "source": [
    "B ^ A"
   ]
  },
  {
   "cell_type": "code",
   "execution_count": 16,
   "id": "8fdde2d9",
   "metadata": {},
   "outputs": [
    {
     "data": {
      "text/plain": [
       "{1, 2, 4, 5, 6}"
      ]
     },
     "execution_count": 16,
     "metadata": {},
     "output_type": "execute_result"
    }
   ],
   "source": [
    "A.symmetric_difference(B)"
   ]
  },
  {
   "cell_type": "code",
   "execution_count": 17,
   "id": "b8cbb6bc",
   "metadata": {},
   "outputs": [
    {
     "name": "stdout",
     "output_type": "stream",
     "text": [
      "Requirement already satisfied: matplotlib_venn in c:\\users\\alexn\\anaconda3\\lib\\site-packages (0.11.10)\n",
      "Requirement already satisfied: matplotlib in c:\\users\\alexn\\anaconda3\\lib\\site-packages (from matplotlib_venn) (3.7.2)\n",
      "Requirement already satisfied: numpy in c:\\users\\alexn\\anaconda3\\lib\\site-packages (from matplotlib_venn) (1.24.3)\n",
      "Requirement already satisfied: scipy in c:\\users\\alexn\\anaconda3\\lib\\site-packages (from matplotlib_venn) (1.11.1)\n",
      "Requirement already satisfied: contourpy>=1.0.1 in c:\\users\\alexn\\anaconda3\\lib\\site-packages (from matplotlib->matplotlib_venn) (1.0.5)\n",
      "Requirement already satisfied: cycler>=0.10 in c:\\users\\alexn\\anaconda3\\lib\\site-packages (from matplotlib->matplotlib_venn) (0.11.0)\n",
      "Requirement already satisfied: fonttools>=4.22.0 in c:\\users\\alexn\\anaconda3\\lib\\site-packages (from matplotlib->matplotlib_venn) (4.25.0)\n",
      "Requirement already satisfied: kiwisolver>=1.0.1 in c:\\users\\alexn\\anaconda3\\lib\\site-packages (from matplotlib->matplotlib_venn) (1.4.4)\n",
      "Requirement already satisfied: packaging>=20.0 in c:\\users\\alexn\\anaconda3\\lib\\site-packages (from matplotlib->matplotlib_venn) (23.1)\n",
      "Requirement already satisfied: pillow>=6.2.0 in c:\\users\\alexn\\anaconda3\\lib\\site-packages (from matplotlib->matplotlib_venn) (9.4.0)\n",
      "Requirement already satisfied: pyparsing<3.1,>=2.3.1 in c:\\users\\alexn\\anaconda3\\lib\\site-packages (from matplotlib->matplotlib_venn) (3.0.9)\n",
      "Requirement already satisfied: python-dateutil>=2.7 in c:\\users\\alexn\\anaconda3\\lib\\site-packages (from matplotlib->matplotlib_venn) (2.8.2)\n",
      "Requirement already satisfied: six>=1.5 in c:\\users\\alexn\\anaconda3\\lib\\site-packages (from python-dateutil>=2.7->matplotlib->matplotlib_venn) (1.16.0)\n",
      "Note: you may need to restart the kernel to use updated packages.\n"
     ]
    }
   ],
   "source": [
    "pip install matplotlib_venn"
   ]
  },
  {
   "cell_type": "code",
   "execution_count": 23,
   "id": "85d24d8a",
   "metadata": {},
   "outputs": [],
   "source": [
    "from matplotlib import pyplot as plt\n",
    "from matplotlib_venn import venn2\n",
    "from matplotlib_venn import venn3"
   ]
  },
  {
   "cell_type": "code",
   "execution_count": 19,
   "id": "27876b33",
   "metadata": {},
   "outputs": [
    {
     "data": {
      "text/plain": [
       "<matplotlib_venn._common.VennDiagram at 0x1bb600cf990>"
      ]
     },
     "execution_count": 19,
     "metadata": {},
     "output_type": "execute_result"
    },
    {
     "data": {
      "image/png": "[encoded data removed]",
      "text/plain": [
       "<Figure size 640x480 with 1 Axes>"
      ]
     },
     "metadata": {},
     "output_type": "display_data"
    }
   ],
   "source": [
    "venn2(subsets=(A,B), set_labels=('Conjunto A', 'Conjunto B'), set_colors=('#888888', '#0000FF'), alpha=0.6)"
   ]
  },
  {
   "cell_type": "code",
   "execution_count": 24,
   "id": "65312a43",
   "metadata": {},
   "outputs": [
    {
     "data": {
      "text/plain": [
       "<matplotlib_venn._common.VennDiagram at 0x1bb614cc610>"
      ]
     },
     "execution_count": 24,
     "metadata": {},
     "output_type": "execute_result"
    },
    {
     "data": {
      "image/png": "[encoded data removed]",
      "text/plain": [
       "<Figure size 640x480 with 1 Axes>"
      ]
     },
     "metadata": {},
     "output_type": "display_data"
    }
   ],
   "source": [
    "venn3(subsets=(A, B, C), set_labels=('Conjunto A', 'Conjunto B', 'Conjunto C'), set_colors=('#888888', '#0000FF', '#FF0000'), alpha=0.6)"
   ]
  },
  {
   "cell_type": "code",
   "execution_count": null,
   "id": "9825fd13",
   "metadata": {},
   "outputs": [],
   "source": []
  }
 ],
 "metadata": {
  "kernelspec": {
   "display_name": "Python 3 (ipykernel)",
   "language": "python",
   "name": "python3"
  },
  "language_info": {
   "codemirror_mode": {
    "name": "ipython",
    "version": 3
   },
   "file_extension": ".py",
   "mimetype": "text/x-python",
   "name": "python",
   "nbconvert_exporter": "python",
   "pygments_lexer": "ipython3",
   "version": "3.11.5"
  }
 },
 "nbformat": 4,
 "nbformat_minor": 5
}
