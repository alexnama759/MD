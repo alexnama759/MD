{
 "cells": [
  {
   "cell_type": "markdown",
   "id": "16fe9093",
   "metadata": {},
   "source": [
    "# Máquina de Turing en Python\n",
    "\n",
    "Una Máquina de Turing es un modelo matemático de computación que define una máquina abstracta. Esta máquina manipula símbolos en una cinta de acuerdo a un conjunto de reglas. Una Máquina de Turing puede simular cualquier algoritmo de computadora, dado suficiente tiempo y memoria.\n",
    "\n",
    "## Componentes de una Máquina de Turing\n",
    "\n",
    "1. **Cinta**: Una secuencia infinita de celdas, cada una de las cuales contiene un símbolo.\n",
    "2. **Cabezal de lectura/escritura**: Una posición en la cinta que puede leer y escribir símbolos y moverse a la izquierda o a la derecha.\n",
    "3. **Conjunto de estados**: La máquina puede estar en uno de varios estados.\n",
    "4. **Tabla de transición**: Define las reglas para mover el cabezal y cambiar de estado basado en el símbolo leído y el estado actual.\n",
    "\n",
    "## Implementación en Python\n",
    "\n",
    "A continuación se muestra cómo podemos implementar una Máquina de Turing en Python.\n"
   ]
  },
  {
   "cell_type": "code",
   "execution_count": 1,
   "id": "6749fda9",
   "metadata": {},
   "outputs": [],
   "source": [
    "class TuringMachine:\n",
    "    def __init__(self, tape=\"\", blank_symbol=\" \", initial_state=\"\", final_states=None, transition_function=None):\n",
    "        self.tape = list(tape)\n",
    "        self.blank_symbol = blank_symbol\n",
    "        self.head_position = 0\n",
    "        self.current_state = initial_state\n",
    "        self.final_states = final_states if final_states else set()\n",
    "        self.transition_function = transition_function if transition_function else {}\n",
    "        self.steps = 0\n",
    "\n",
    "    def step(self):\n",
    "        if self.current_state in self.final_states:\n",
    "            return False\n",
    "        \n",
    "        symbol_under_head = self.tape[self.head_position] if self.head_position < len(self.tape) else self.blank_symbol\n",
    "\n",
    "        key = (self.current_state, symbol_under_head)\n",
    "        if key in self.transition_function:\n",
    "            new_state, write_symbol, direction = self.transition_function[key]\n",
    "            if self.head_position < len(self.tape):\n",
    "                self.tape[self.head_position] = write_symbol\n",
    "            else:\n",
    "                self.tape.append(write_symbol)\n",
    "\n",
    "            if direction == \"R\":\n",
    "                self.head_position += 1\n",
    "            elif direction == \"L\":\n",
    "                self.head_position -= 1\n",
    "            self.current_state = new_state\n",
    "            self.steps += 1\n",
    "        else:\n",
    "            return False\n",
    "        return True\n",
    "\n",
    "    def run(self, max_steps=1000):\n",
    "        while self.steps < max_steps and self.step():\n",
    "            pass\n",
    "        return \"\".join(self.tape)\n",
    "\n",
    "    def get_tape(self):\n",
    "        return \"\".join(self.tape)\n"
   ]
  },
  {
   "cell_type": "markdown",
   "id": "6dbb5ba7",
   "metadata": {},
   "source": [
    "## Ejemplo de uso\n",
    "\n",
    "Vamos a definir una Máquina de Turing que acepte cadenas de `a` y `b` y las convierta todas en `x`. Aquí está la definición de los estados y las transiciones:\n"
   ]
  },
  {
   "cell_type": "code",
   "execution_count": 2,
   "id": "129c29f5",
   "metadata": {},
   "outputs": [
    {
     "data": {
      "text/plain": [
       "'xxxx '"
      ]
     },
     "execution_count": 2,
     "metadata": {},
     "output_type": "execute_result"
    }
   ],
   "source": [
    "# Definición de los estados y transiciones para nuestra máquina de Turing de ejemplo.\n",
    "initial_state = \"q0\"\n",
    "final_states = {\"q_accept\"}\n",
    "transition_function = {\n",
    "    (\"q0\", \"a\"): (\"q0\", \"x\", \"R\"),\n",
    "    (\"q0\", \"b\"): (\"q0\", \"x\", \"R\"),\n",
    "    (\"q0\", \" \"): (\"q_accept\", \" \", \"N\")\n",
    "}\n",
    "\n",
    "# Crear una máquina de Turing con la configuración dada.\n",
    "tm = TuringMachine(\n",
    "    tape=\"aabb\",\n",
    "    blank_symbol=\" \",\n",
    "    initial_state=initial_state,\n",
    "    final_states=final_states,\n",
    "    transition_function=transition_function\n",
    ")\n",
    "\n",
    "# Ejecutar la máquina de Turing.\n",
    "result = tm.run()\n",
    "result\n"
   ]
  },
  {
   "cell_type": "markdown",
   "id": "a10f8b4e",
   "metadata": {},
   "source": [
    "El resultado de ejecutar la máquina de Turing en la cinta \"aabb\" debería ser \"xxxx\", ya que todas las `a` y `b` se han convertido en `x`.\n",
    "\n",
    "## Visualización del resultado\n",
    "\n",
    "Podemos visualizar el resultado de la cinta después de que la máquina de Turing haya terminado su ejecución.\n"
   ]
  },
  {
   "cell_type": "code",
   "execution_count": 3,
   "id": "ad3c6262",
   "metadata": {},
   "outputs": [
    {
     "name": "stdout",
     "output_type": "stream",
     "text": [
      "Cinta final: xxxx \n"
     ]
    }
   ],
   "source": [
    "# Visualización de la cinta después de la ejecución\n",
    "\n",
    "print(\"Cinta final:\", tm.get_tape())\n",
    "\n"
   ]
  },
  {
   "cell_type": "markdown",
   "id": "df3af600",
   "metadata": {},
   "source": [
    "Este notebook muestra cómo se puede definir e implementar una Máquina de Turing en Python. Puedes adaptar los estados y las transiciones para modelar diferentes problemas y experimentar con diferentes configuraciones de la máquina.\n"
   ]
  }
 ],
 "metadata": {
  "kernelspec": {
   "display_name": "Python 3 (ipykernel)",
   "language": "python",
   "name": "python3"
  },
  "language_info": {
   "codemirror_mode": {
    "name": "ipython",
    "version": 3
   },
   "file_extension": ".py",
   "mimetype": "text/x-python",
   "name": "python",
   "nbconvert_exporter": "python",
   "pygments_lexer": "ipython3",
   "version": "3.11.5"
  }
 },
 "nbformat": 4,
 "nbformat_minor": 5
}
